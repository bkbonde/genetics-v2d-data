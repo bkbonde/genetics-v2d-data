{
 "cells": [
  {
   "cell_type": "code",
   "execution_count": 5,
   "metadata": {},
   "outputs": [],
   "source": [
    "import pandas as pd\n",
    "import seaborn as sns\n",
    "%matplotlib inline"
   ]
  },
  {
   "cell_type": "code",
   "execution_count": 2,
   "metadata": {},
   "outputs": [],
   "source": [
    "ov = pd.read_table('../output/180904/locus_overlap.tsv.gz')"
   ]
  },
  {
   "cell_type": "code",
   "execution_count": 3,
   "metadata": {},
   "outputs": [
    {
     "data": {
      "text/html": [
       "<div>\n",
       "<style scoped>\n",
       "    .dataframe tbody tr th:only-of-type {\n",
       "        vertical-align: middle;\n",
       "    }\n",
       "\n",
       "    .dataframe tbody tr th {\n",
       "        vertical-align: top;\n",
       "    }\n",
       "\n",
       "    .dataframe thead th {\n",
       "        text-align: right;\n",
       "    }\n",
       "</style>\n",
       "<table border=\"1\" class=\"dataframe\">\n",
       "  <thead>\n",
       "    <tr style=\"text-align: right;\">\n",
       "      <th></th>\n",
       "      <th>study_id_A</th>\n",
       "      <th>index_variantid_b37_A</th>\n",
       "      <th>study_id_B</th>\n",
       "      <th>index_variantid_b37_B</th>\n",
       "      <th>set_type</th>\n",
       "      <th>distinct_A</th>\n",
       "      <th>overlap_AB</th>\n",
       "      <th>distinct_B</th>\n",
       "    </tr>\n",
       "  </thead>\n",
       "  <tbody>\n",
       "    <tr>\n",
       "      <th>0</th>\n",
       "      <td>NEALEUKB_I49</td>\n",
       "      <td>12_78651800_C_T</td>\n",
       "      <td>NEALEUKB_I49</td>\n",
       "      <td>12_78651800_C_T</td>\n",
       "      <td>finemapping</td>\n",
       "      <td>0</td>\n",
       "      <td>348</td>\n",
       "      <td>0</td>\n",
       "    </tr>\n",
       "    <tr>\n",
       "      <th>1</th>\n",
       "      <td>NEALEUKB_I49</td>\n",
       "      <td>12_78651800_C_T</td>\n",
       "      <td>NEALEUKB_23108</td>\n",
       "      <td>12_78198931_C_G</td>\n",
       "      <td>finemapping</td>\n",
       "      <td>316</td>\n",
       "      <td>32</td>\n",
       "      <td>2</td>\n",
       "    </tr>\n",
       "    <tr>\n",
       "      <th>2</th>\n",
       "      <td>NEALEUKB_I49</td>\n",
       "      <td>12_78651800_C_T</td>\n",
       "      <td>NEALEUKB_23107</td>\n",
       "      <td>12_78198931_C_G</td>\n",
       "      <td>finemapping</td>\n",
       "      <td>320</td>\n",
       "      <td>28</td>\n",
       "      <td>0</td>\n",
       "    </tr>\n",
       "    <tr>\n",
       "      <th>3</th>\n",
       "      <td>NEALEUKB_23105</td>\n",
       "      <td>12_115102482_A_C</td>\n",
       "      <td>NEALEUKB_23105</td>\n",
       "      <td>12_115102482_A_C</td>\n",
       "      <td>finemapping</td>\n",
       "      <td>0</td>\n",
       "      <td>2</td>\n",
       "      <td>0</td>\n",
       "    </tr>\n",
       "    <tr>\n",
       "      <th>4</th>\n",
       "      <td>NEALEUKB_23105</td>\n",
       "      <td>12_115102482_A_C</td>\n",
       "      <td>NEALEUKB_23118</td>\n",
       "      <td>12_115102482_A_C</td>\n",
       "      <td>finemapping</td>\n",
       "      <td>0</td>\n",
       "      <td>2</td>\n",
       "      <td>0</td>\n",
       "    </tr>\n",
       "  </tbody>\n",
       "</table>\n",
       "</div>"
      ],
      "text/plain": [
       "       study_id_A index_variantid_b37_A      study_id_B index_variantid_b37_B  \\\n",
       "0    NEALEUKB_I49       12_78651800_C_T    NEALEUKB_I49       12_78651800_C_T   \n",
       "1    NEALEUKB_I49       12_78651800_C_T  NEALEUKB_23108       12_78198931_C_G   \n",
       "2    NEALEUKB_I49       12_78651800_C_T  NEALEUKB_23107       12_78198931_C_G   \n",
       "3  NEALEUKB_23105      12_115102482_A_C  NEALEUKB_23105      12_115102482_A_C   \n",
       "4  NEALEUKB_23105      12_115102482_A_C  NEALEUKB_23118      12_115102482_A_C   \n",
       "\n",
       "      set_type  distinct_A  overlap_AB  distinct_B  \n",
       "0  finemapping           0         348           0  \n",
       "1  finemapping         316          32           2  \n",
       "2  finemapping         320          28           0  \n",
       "3  finemapping           0           2           0  \n",
       "4  finemapping           0           2           0  "
      ]
     },
     "execution_count": 3,
     "metadata": {},
     "output_type": "execute_result"
    }
   ],
   "source": [
    "ov.head()"
   ]
  },
  {
   "cell_type": "code",
   "execution_count": 16,
   "metadata": {},
   "outputs": [
    {
     "data": {
      "text/plain": [
       "<matplotlib.axes._subplots.AxesSubplot at 0x122abbf60>"
      ]
     },
     "execution_count": 16,
     "metadata": {},
     "output_type": "execute_result"
    },
    {
     "data": {
      "image/png": "[encoded data removed]",
      "text/plain": [
       "<Figure size 432x288 with 1 Axes>"
      ]
     },
     "metadata": {},
     "output_type": "display_data"
    }
   ],
   "source": [
    "ov.groupby('study_id_A').study_id_B.nunique().hist(bins=100)"
   ]
  },
  {
   "cell_type": "code",
   "execution_count": 17,
   "metadata": {},
   "outputs": [
    {
     "data": {
      "text/plain": [
       "<matplotlib.axes._subplots.AxesSubplot at 0x123163940>"
      ]
     },
     "execution_count": 17,
     "metadata": {},
     "output_type": "execute_result"
    },
    {
     "data": {
      "image/png": "[encoded data removed]",
      "text/plain": [
       "<Figure size 432x288 with 1 Axes>"
      ]
     },
     "metadata": {},
     "output_type": "display_data"
    }
   ],
   "source": [
    "ov.groupby('study_id_A').study_id_B.nunique().plot()"
   ]
  },
  {
   "cell_type": "code",
   "execution_count": null,
   "metadata": {},
   "outputs": [],
   "source": []
  }
 ],
 "metadata": {
  "kernelspec": {
   "display_name": "Python 3",
   "language": "python",
   "name": "python3"
  },
  "language_info": {
   "codemirror_mode": {
    "name": "ipython",
    "version": 3
   },
   "file_extension": ".py",
   "mimetype": "text/x-python",
   "name": "python",
   "nbconvert_exporter": "python",
   "pygments_lexer": "ipython3",
   "version": "3.7.0"
  }
 },
 "nbformat": 4,
 "nbformat_minor": 2
}
